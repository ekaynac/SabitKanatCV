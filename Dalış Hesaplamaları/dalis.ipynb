{
 "cells": [
  {
   "cell_type": "code",
   "execution_count": 45,
   "metadata": {},
   "outputs": [],
   "source": [
    "import math\n",
    "import pandas as pd\n",
    "class Dalis:\n",
    "    def __init__(self):\n",
    "        self.sabit_ucus_hizi = 15 # +x m/s\n",
    "        self.sabit_ucus_irtifasi = 25 # m\n",
    "        self.dalinacak_irtifa = 8 # m\n",
    "        self.dalis_süresi = 1 # s\n",
    "        self.max_ruzgar_hizi = 5.5 # ? m/s\n",
    "        self.yercekimi_ivmesi = 9.8 # m/s^2 -z\n",
    "    def dusme_suresi_hesapla(self):\n",
    "        self.dikey_hiz = (self.sabit_ucus_irtifasi - self.dalinacak_irtifa) / self.dalis_süresi # m/s -z\n",
    "        delta = self.dikey_hiz**2 + 2*self.yercekimi_ivmesi*self.dalinacak_irtifa\n",
    "\n",
    "        self.dusme_suresi = ((-1*self.dikey_hiz) + delta**(1/2)) / self.yercekimi_ivmesi\n",
    "        self.dalissiz_dusme_suresi = (2*self.sabit_ucus_irtifasi/self.yercekimi_ivmesi)**(1/2)\n",
    "        self.dalissiz_alcakirtifa_dusme_suresi = (2*self.dalinacak_irtifa/self.yercekimi_ivmesi)**(1/2)\n",
    "    def yatay_sapma_hesapla(self):\n",
    "        self.sapma = self.max_ruzgar_hizi * self.dusme_suresi\n",
    "        self.dalissiz_sapma = self.max_ruzgar_hizi * self.dalissiz_dusme_suresi\n",
    "        self.dalissiz_alcakirtifa_sapma = self.max_ruzgar_hizi * self.dalissiz_alcakirtifa_dusme_suresi\n",
    "    def output(self):\n",
    "        data_list = [[self.dusme_suresi, self.sapma,\n",
    "                    self.dalissiz_dusme_suresi, self.dalissiz_sapma,\n",
    "                    self.dalissiz_alcakirtifa_dusme_suresi, self.dalissiz_alcakirtifa_sapma,\n",
    "                    self.max_ruzgar_hizi, self.dalis_süresi]]\n",
    "        data_names = [\"Dalışlı Düşme Süresi(s)\",\"Dalışlı Sapma(m)\",\n",
    "                    \"Dalışsız Düşme Süresi(s)\", \"Dalışsız Sapma(m)\",\n",
    "                    \"Dalışsız Alçalarak Düşme Süresi(s)\",\"Dalışsız Alçalarak Sapma(m)\",\n",
    "                    \"Öngörülen Max Rüzgar Hızı(m/s)\",\"Dalış Süresi(s)\"]\n",
    "        return data_list, data_names\n",
    "    def main(self):\n",
    "        self.dusme_suresi_hesapla()\n",
    "        self.yatay_sapma_hesapla()\n",
    "        data, names = self.output()\n",
    "        df = pd.DataFrame(data =data, columns=names)\n",
    "        return df      "
   ]
  },
  {
   "cell_type": "code",
   "execution_count": 46,
   "metadata": {},
   "outputs": [
    {
     "data": {
      "text/html": [
       "<div>\n",
       "<style scoped>\n",
       "    .dataframe tbody tr th:only-of-type {\n",
       "        vertical-align: middle;\n",
       "    }\n",
       "\n",
       "    .dataframe tbody tr th {\n",
       "        vertical-align: top;\n",
       "    }\n",
       "\n",
       "    .dataframe thead th {\n",
       "        text-align: right;\n",
       "    }\n",
       "</style>\n",
       "<table border=\"1\" class=\"dataframe\">\n",
       "  <thead>\n",
       "    <tr style=\"text-align: right;\">\n",
       "      <th></th>\n",
       "      <th>Dalışlı Düşme Süresi(s)</th>\n",
       "      <th>Dalışlı Sapma(m)</th>\n",
       "      <th>Dalışsız Düşme Süresi(s)</th>\n",
       "      <th>Dalışsız Sapma(m)</th>\n",
       "      <th>Dalışsız Alçalarak Düşme Süresi(s)</th>\n",
       "      <th>Dalışsız Alçalarak Sapma(m)</th>\n",
       "      <th>Öngörülen Max Rüzgar Hızı(m/s)</th>\n",
       "      <th>Dalış Süresi(s)</th>\n",
       "    </tr>\n",
       "  </thead>\n",
       "  <tbody>\n",
       "    <tr>\n",
       "      <th>0</th>\n",
       "      <td>0.419794</td>\n",
       "      <td>2.308864</td>\n",
       "      <td>2.25877</td>\n",
       "      <td>12.423234</td>\n",
       "      <td>1.277753</td>\n",
       "      <td>7.027642</td>\n",
       "      <td>5.5</td>\n",
       "      <td>1</td>\n",
       "    </tr>\n",
       "  </tbody>\n",
       "</table>\n",
       "</div>"
      ],
      "text/plain": [
       "   Dalışlı Düşme Süresi(s)  Dalışlı Sapma(m)  Dalışsız Düşme Süresi(s)  \\\n",
       "0                 0.419794          2.308864                   2.25877   \n",
       "\n",
       "   Dalışsız Sapma(m)  Dalışsız Alçalarak Düşme Süresi(s)  \\\n",
       "0          12.423234                            1.277753   \n",
       "\n",
       "   Dalışsız Alçalarak Sapma(m)  Öngörülen Max Rüzgar Hızı(m/s)  \\\n",
       "0                     7.027642                             5.5   \n",
       "\n",
       "   Dalış Süresi(s)  \n",
       "0                1  "
      ]
     },
     "execution_count": 46,
     "metadata": {},
     "output_type": "execute_result"
    }
   ],
   "source": [
    "calc = Dalis()\n",
    "calc.main()  "
   ]
  },
  {
   "cell_type": "code",
   "execution_count": null,
   "metadata": {},
   "outputs": [],
   "source": []
  }
 ],
 "metadata": {
  "interpreter": {
   "hash": "91a6361cbc04f9701849613a8befc595d9fbb0bc8f6818e3ca9e0de61eadc2a8"
  },
  "kernelspec": {
   "display_name": "Python 3.9.10 64-bit",
   "language": "python",
   "name": "python3"
  },
  "language_info": {
   "codemirror_mode": {
    "name": "ipython",
    "version": 3
   },
   "file_extension": ".py",
   "mimetype": "text/x-python",
   "name": "python",
   "nbconvert_exporter": "python",
   "pygments_lexer": "ipython3",
   "version": "3.9.10"
  },
  "orig_nbformat": 4
 },
 "nbformat": 4,
 "nbformat_minor": 2
}
